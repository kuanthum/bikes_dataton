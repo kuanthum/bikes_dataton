{
 "cells": [
  {
   "cell_type": "code",
   "execution_count": 4,
   "metadata": {},
   "outputs": [],
   "source": [
    "import pandas as pd\n",
    "import seaborn as sns\n",
    "import matplotlib.pyplot as plt"
   ]
  },
  {
   "cell_type": "code",
   "execution_count": 5,
   "metadata": {},
   "outputs": [],
   "source": [
    "df_train = pd.read_excel(r'data\\bike_train.xlsx')\n",
    "df_test = pd.read_excel(r'data\\bike_test.xlsx')"
   ]
  },
  {
   "cell_type": "code",
   "execution_count": 6,
   "metadata": {},
   "outputs": [
    {
     "data": {
      "text/plain": [
       "((11999, 17), (5380, 14))"
      ]
     },
     "execution_count": 6,
     "metadata": {},
     "output_type": "execute_result"
    }
   ],
   "source": [
    "df_train.shape, df_test.shape"
   ]
  },
  {
   "cell_type": "code",
   "execution_count": 7,
   "metadata": {},
   "outputs": [
    {
     "data": {
      "text/plain": [
       "(Index(['instant', 'dteday', 'season', 'yr', 'mnth', 'hr', 'holiday', 'weekday',\n",
       "        'workingday', 'weathersit', 'temp', 'atemp', 'hum', 'windspeed',\n",
       "        'casual', 'registered', 'cnt'],\n",
       "       dtype='object'),\n",
       " Index(['instant', 'dteday', 'season', 'yr', 'mnth', 'hr', 'holiday', 'weekday',\n",
       "        'workingday', 'weathersit', 'temp', 'atemp', 'hum', 'windspeed'],\n",
       "       dtype='object'))"
      ]
     },
     "execution_count": 7,
     "metadata": {},
     "output_type": "execute_result"
    }
   ],
   "source": [
    "df_train.columns, df_test.columns"
   ]
  },
  {
   "cell_type": "code",
   "execution_count": 15,
   "metadata": {},
   "outputs": [
    {
     "data": {
      "text/plain": [
       "({'instant': dtype('int64'),\n",
       "  'dteday': dtype('<M8[ns]'),\n",
       "  'season': dtype('int64'),\n",
       "  'yr': dtype('int64'),\n",
       "  'mnth': dtype('int64'),\n",
       "  'hr': dtype('int64'),\n",
       "  'holiday': dtype('int64'),\n",
       "  'weekday': dtype('int64'),\n",
       "  'workingday': dtype('int64'),\n",
       "  'weathersit': dtype('int64'),\n",
       "  'temp': dtype('float64'),\n",
       "  'atemp': dtype('float64'),\n",
       "  'hum': dtype('float64'),\n",
       "  'windspeed': dtype('float64')},\n",
       " {'instant': dtype('int64'),\n",
       "  'dteday': dtype('<M8[ns]'),\n",
       "  'season': dtype('int64'),\n",
       "  'yr': dtype('int64'),\n",
       "  'mnth': dtype('int64'),\n",
       "  'hr': dtype('int64'),\n",
       "  'holiday': dtype('int64'),\n",
       "  'weekday': dtype('int64'),\n",
       "  'workingday': dtype('int64'),\n",
       "  'weathersit': dtype('int64'),\n",
       "  'temp': dtype('float64'),\n",
       "  'atemp': dtype('float64'),\n",
       "  'hum': dtype('float64'),\n",
       "  'windspeed': dtype('float64')})"
      ]
     },
     "execution_count": 15,
     "metadata": {},
     "output_type": "execute_result"
    }
   ],
   "source": [
    "dict(df_train.dtypes), dict(df_test.dtypes)"
   ]
  },
  {
   "cell_type": "code",
   "execution_count": 8,
   "metadata": {},
   "outputs": [],
   "source": [
    "columns = set(list(df_train.columns.values)).intersection(list(df_test.columns.values))"
   ]
  },
  {
   "cell_type": "code",
   "execution_count": 9,
   "metadata": {},
   "outputs": [],
   "source": [
    "y_train = df_train.pop('cnt')"
   ]
  },
  {
   "cell_type": "code",
   "execution_count": 10,
   "metadata": {},
   "outputs": [],
   "source": [
    "drop = [x for x in df_train.columns if x not in columns]"
   ]
  },
  {
   "cell_type": "code",
   "execution_count": 11,
   "metadata": {},
   "outputs": [],
   "source": [
    "df_train.drop(columns=drop, inplace=True)"
   ]
  },
  {
   "cell_type": "code",
   "execution_count": 12,
   "metadata": {},
   "outputs": [
    {
     "data": {
      "text/plain": [
       "((11999, 14), (5380, 14), (11999,))"
      ]
     },
     "execution_count": 12,
     "metadata": {},
     "output_type": "execute_result"
    }
   ],
   "source": [
    "df_train.shape, df_test.shape, y_train.shape"
   ]
  },
  {
   "cell_type": "code",
   "execution_count": 17,
   "metadata": {},
   "outputs": [
    {
     "ename": "ModuleNotFoundError",
     "evalue": "No module named 'autosklearn'",
     "output_type": "error",
     "traceback": [
      "\u001b[1;31m---------------------------------------------------------------------------\u001b[0m",
      "\u001b[1;31mModuleNotFoundError\u001b[0m                       Traceback (most recent call last)",
      "\u001b[1;32mf:\\dataton_bike_rent\\model\\exploration.ipynb Celda 11\u001b[0m in \u001b[0;36m<cell line: 1>\u001b[1;34m()\u001b[0m\n\u001b[1;32m----> <a href='vscode-notebook-cell:/f%3A/dataton_bike_rent/model/exploration.ipynb#X20sZmlsZQ%3D%3D?line=0'>1</a>\u001b[0m \u001b[39mimport\u001b[39;00m \u001b[39mautosklearn\u001b[39;00m\u001b[39m.\u001b[39;00m\u001b[39mregression\u001b[39;00m\n",
      "\u001b[1;31mModuleNotFoundError\u001b[0m: No module named 'autosklearn'"
     ]
    }
   ],
   "source": [
    "import autosklearn.regression"
   ]
  },
  {
   "cell_type": "code",
   "execution_count": null,
   "metadata": {},
   "outputs": [],
   "source": []
  }
 ],
 "metadata": {
  "kernelspec": {
   "display_name": "Python 3.10.2 64-bit",
   "language": "python",
   "name": "python3"
  },
  "language_info": {
   "codemirror_mode": {
    "name": "ipython",
    "version": 3
   },
   "file_extension": ".py",
   "mimetype": "text/x-python",
   "name": "python",
   "nbconvert_exporter": "python",
   "pygments_lexer": "ipython3",
   "version": "3.10.2"
  },
  "orig_nbformat": 4,
  "vscode": {
   "interpreter": {
    "hash": "e36d3b1cbb4fb2a95efce5a4bc49ab2e84ae5beb3185e07de881d586ab467705"
   }
  }
 },
 "nbformat": 4,
 "nbformat_minor": 2
}
